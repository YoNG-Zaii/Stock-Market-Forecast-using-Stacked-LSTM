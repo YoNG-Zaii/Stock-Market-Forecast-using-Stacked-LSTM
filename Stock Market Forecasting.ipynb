{
 "cells": [
  {
   "cell_type": "markdown",
   "id": "36b06248",
   "metadata": {},
   "source": [
    "## Stock Market Forecasting Using Stacked LSTM"
   ]
  },
  {
   "cell_type": "markdown",
   "id": "6b12db94",
   "metadata": {},
   "source": [
    "For this deep learning project, we will use stacked LSTM for stock prices forecasting."
   ]
  },
  {
   "cell_type": "code",
   "execution_count": 1,
   "id": "c13b0a84",
   "metadata": {},
   "outputs": [],
   "source": [
    "# Import necessary libraries\n",
    "import numpy as np\n",
    "import pandas as pd\n",
    "import matplotlib.pyplot as plt\n",
    "import tensorflow as tf"
   ]
  },
  {
   "cell_type": "markdown",
   "id": "c4992b65",
   "metadata": {},
   "source": [
    "### Data Collection"
   ]
  },
  {
   "cell_type": "markdown",
   "id": "d9dda502",
   "metadata": {},
   "source": [
    "The stock market data that we will use is obtained via Tiingo API.\n",
    "\n",
    "Source: https://api.tiingo.com/documentation/general/overview\n",
    "\n",
    "To get access to the API token, you will need to register an account.\n",
    "After that, run the cell below to get the data."
   ]
  },
  {
   "cell_type": "code",
   "execution_count": 2,
   "id": "76549be6",
   "metadata": {},
   "outputs": [
    {
     "data": {
      "text/plain": [
       "'\\nimport pandas_datareader as pdr\\nkey=\"\"                                             # Your API token\\ndf = pdr.get_data_tiingo(\\'AAPL\\', api_key=key)      # API provided by pandas datareader to get the data from Tiingo\\n'"
      ]
     },
     "execution_count": 2,
     "metadata": {},
     "output_type": "execute_result"
    }
   ],
   "source": [
    "'''\n",
    "import pandas_datareader as pdr\n",
    "key=\"\"                                             # Your API token\n",
    "df = pdr.get_data_tiingo('AAPL', api_key=key)      # API provided by pandas datareader to get the data from Tiingo\n",
    "'''"
   ]
  },
  {
   "cell_type": "code",
   "execution_count": 3,
   "id": "1b054b58",
   "metadata": {},
   "outputs": [],
   "source": [
    "# df.to_csv('AAPL.csv')"
   ]
  },
  {
   "cell_type": "code",
   "execution_count": 4,
   "id": "9509ae41",
   "metadata": {},
   "outputs": [
    {
     "data": {
      "text/html": [
       "<div>\n",
       "<style scoped>\n",
       "    .dataframe tbody tr th:only-of-type {\n",
       "        vertical-align: middle;\n",
       "    }\n",
       "\n",
       "    .dataframe tbody tr th {\n",
       "        vertical-align: top;\n",
       "    }\n",
       "\n",
       "    .dataframe thead th {\n",
       "        text-align: right;\n",
       "    }\n",
       "</style>\n",
       "<table border=\"1\" class=\"dataframe\">\n",
       "  <thead>\n",
       "    <tr style=\"text-align: right;\">\n",
       "      <th></th>\n",
       "      <th>symbol</th>\n",
       "      <th>date</th>\n",
       "      <th>close</th>\n",
       "      <th>high</th>\n",
       "      <th>low</th>\n",
       "      <th>open</th>\n",
       "      <th>volume</th>\n",
       "      <th>adjClose</th>\n",
       "      <th>adjHigh</th>\n",
       "      <th>adjLow</th>\n",
       "      <th>adjOpen</th>\n",
       "      <th>adjVolume</th>\n",
       "      <th>divCash</th>\n",
       "      <th>splitFactor</th>\n",
       "    </tr>\n",
       "  </thead>\n",
       "  <tbody>\n",
       "    <tr>\n",
       "      <th>0</th>\n",
       "      <td>AAPL</td>\n",
       "      <td>2017-09-13 00:00:00+00:00</td>\n",
       "      <td>159.65</td>\n",
       "      <td>159.960</td>\n",
       "      <td>157.910</td>\n",
       "      <td>159.870</td>\n",
       "      <td>44393752</td>\n",
       "      <td>37.877496</td>\n",
       "      <td>37.951045</td>\n",
       "      <td>37.464675</td>\n",
       "      <td>37.929692</td>\n",
       "      <td>177575008</td>\n",
       "      <td>0.0</td>\n",
       "      <td>1.0</td>\n",
       "    </tr>\n",
       "    <tr>\n",
       "      <th>1</th>\n",
       "      <td>AAPL</td>\n",
       "      <td>2017-09-14 00:00:00+00:00</td>\n",
       "      <td>158.28</td>\n",
       "      <td>159.400</td>\n",
       "      <td>158.090</td>\n",
       "      <td>158.990</td>\n",
       "      <td>23073646</td>\n",
       "      <td>37.552459</td>\n",
       "      <td>37.818183</td>\n",
       "      <td>37.507381</td>\n",
       "      <td>37.720909</td>\n",
       "      <td>92294584</td>\n",
       "      <td>0.0</td>\n",
       "      <td>1.0</td>\n",
       "    </tr>\n",
       "    <tr>\n",
       "      <th>2</th>\n",
       "      <td>AAPL</td>\n",
       "      <td>2017-09-15 00:00:00+00:00</td>\n",
       "      <td>159.88</td>\n",
       "      <td>160.970</td>\n",
       "      <td>158.000</td>\n",
       "      <td>158.470</td>\n",
       "      <td>48203642</td>\n",
       "      <td>37.932064</td>\n",
       "      <td>38.190671</td>\n",
       "      <td>37.486028</td>\n",
       "      <td>37.597537</td>\n",
       "      <td>192814568</td>\n",
       "      <td>0.0</td>\n",
       "      <td>1.0</td>\n",
       "    </tr>\n",
       "    <tr>\n",
       "      <th>3</th>\n",
       "      <td>AAPL</td>\n",
       "      <td>2017-09-18 00:00:00+00:00</td>\n",
       "      <td>158.67</td>\n",
       "      <td>160.500</td>\n",
       "      <td>157.995</td>\n",
       "      <td>160.110</td>\n",
       "      <td>27939718</td>\n",
       "      <td>37.644988</td>\n",
       "      <td>38.079162</td>\n",
       "      <td>37.484842</td>\n",
       "      <td>37.986633</td>\n",
       "      <td>111758872</td>\n",
       "      <td>0.0</td>\n",
       "      <td>1.0</td>\n",
       "    </tr>\n",
       "    <tr>\n",
       "      <th>4</th>\n",
       "      <td>AAPL</td>\n",
       "      <td>2017-09-19 00:00:00+00:00</td>\n",
       "      <td>158.73</td>\n",
       "      <td>159.770</td>\n",
       "      <td>158.440</td>\n",
       "      <td>159.510</td>\n",
       "      <td>20347352</td>\n",
       "      <td>37.659223</td>\n",
       "      <td>37.905967</td>\n",
       "      <td>37.590420</td>\n",
       "      <td>37.844281</td>\n",
       "      <td>81389408</td>\n",
       "      <td>0.0</td>\n",
       "      <td>1.0</td>\n",
       "    </tr>\n",
       "    <tr>\n",
       "      <th>...</th>\n",
       "      <td>...</td>\n",
       "      <td>...</td>\n",
       "      <td>...</td>\n",
       "      <td>...</td>\n",
       "      <td>...</td>\n",
       "      <td>...</td>\n",
       "      <td>...</td>\n",
       "      <td>...</td>\n",
       "      <td>...</td>\n",
       "      <td>...</td>\n",
       "      <td>...</td>\n",
       "      <td>...</td>\n",
       "      <td>...</td>\n",
       "      <td>...</td>\n",
       "    </tr>\n",
       "    <tr>\n",
       "      <th>1252</th>\n",
       "      <td>AAPL</td>\n",
       "      <td>2022-09-02 00:00:00+00:00</td>\n",
       "      <td>155.81</td>\n",
       "      <td>160.362</td>\n",
       "      <td>154.965</td>\n",
       "      <td>159.750</td>\n",
       "      <td>76957768</td>\n",
       "      <td>155.810000</td>\n",
       "      <td>160.362000</td>\n",
       "      <td>154.965000</td>\n",
       "      <td>159.750000</td>\n",
       "      <td>76957768</td>\n",
       "      <td>0.0</td>\n",
       "      <td>1.0</td>\n",
       "    </tr>\n",
       "    <tr>\n",
       "      <th>1253</th>\n",
       "      <td>AAPL</td>\n",
       "      <td>2022-09-06 00:00:00+00:00</td>\n",
       "      <td>154.53</td>\n",
       "      <td>157.090</td>\n",
       "      <td>153.690</td>\n",
       "      <td>156.470</td>\n",
       "      <td>73295539</td>\n",
       "      <td>154.530000</td>\n",
       "      <td>157.090000</td>\n",
       "      <td>153.690000</td>\n",
       "      <td>156.470000</td>\n",
       "      <td>73295539</td>\n",
       "      <td>0.0</td>\n",
       "      <td>1.0</td>\n",
       "    </tr>\n",
       "    <tr>\n",
       "      <th>1254</th>\n",
       "      <td>AAPL</td>\n",
       "      <td>2022-09-07 00:00:00+00:00</td>\n",
       "      <td>155.96</td>\n",
       "      <td>156.670</td>\n",
       "      <td>153.610</td>\n",
       "      <td>154.825</td>\n",
       "      <td>87449574</td>\n",
       "      <td>155.960000</td>\n",
       "      <td>156.670000</td>\n",
       "      <td>153.610000</td>\n",
       "      <td>154.825000</td>\n",
       "      <td>87449574</td>\n",
       "      <td>0.0</td>\n",
       "      <td>1.0</td>\n",
       "    </tr>\n",
       "    <tr>\n",
       "      <th>1255</th>\n",
       "      <td>AAPL</td>\n",
       "      <td>2022-09-08 00:00:00+00:00</td>\n",
       "      <td>154.46</td>\n",
       "      <td>156.360</td>\n",
       "      <td>152.680</td>\n",
       "      <td>154.640</td>\n",
       "      <td>84923847</td>\n",
       "      <td>154.460000</td>\n",
       "      <td>156.360000</td>\n",
       "      <td>152.680000</td>\n",
       "      <td>154.640000</td>\n",
       "      <td>84923847</td>\n",
       "      <td>0.0</td>\n",
       "      <td>1.0</td>\n",
       "    </tr>\n",
       "    <tr>\n",
       "      <th>1256</th>\n",
       "      <td>AAPL</td>\n",
       "      <td>2022-09-09 00:00:00+00:00</td>\n",
       "      <td>157.37</td>\n",
       "      <td>157.820</td>\n",
       "      <td>154.750</td>\n",
       "      <td>155.470</td>\n",
       "      <td>68081006</td>\n",
       "      <td>157.370000</td>\n",
       "      <td>157.820000</td>\n",
       "      <td>154.750000</td>\n",
       "      <td>155.470000</td>\n",
       "      <td>68081006</td>\n",
       "      <td>0.0</td>\n",
       "      <td>1.0</td>\n",
       "    </tr>\n",
       "  </tbody>\n",
       "</table>\n",
       "<p>1257 rows × 14 columns</p>\n",
       "</div>"
      ],
      "text/plain": [
       "     symbol                       date   close     high      low     open  \\\n",
       "0      AAPL  2017-09-13 00:00:00+00:00  159.65  159.960  157.910  159.870   \n",
       "1      AAPL  2017-09-14 00:00:00+00:00  158.28  159.400  158.090  158.990   \n",
       "2      AAPL  2017-09-15 00:00:00+00:00  159.88  160.970  158.000  158.470   \n",
       "3      AAPL  2017-09-18 00:00:00+00:00  158.67  160.500  157.995  160.110   \n",
       "4      AAPL  2017-09-19 00:00:00+00:00  158.73  159.770  158.440  159.510   \n",
       "...     ...                        ...     ...      ...      ...      ...   \n",
       "1252   AAPL  2022-09-02 00:00:00+00:00  155.81  160.362  154.965  159.750   \n",
       "1253   AAPL  2022-09-06 00:00:00+00:00  154.53  157.090  153.690  156.470   \n",
       "1254   AAPL  2022-09-07 00:00:00+00:00  155.96  156.670  153.610  154.825   \n",
       "1255   AAPL  2022-09-08 00:00:00+00:00  154.46  156.360  152.680  154.640   \n",
       "1256   AAPL  2022-09-09 00:00:00+00:00  157.37  157.820  154.750  155.470   \n",
       "\n",
       "        volume    adjClose     adjHigh      adjLow     adjOpen  adjVolume  \\\n",
       "0     44393752   37.877496   37.951045   37.464675   37.929692  177575008   \n",
       "1     23073646   37.552459   37.818183   37.507381   37.720909   92294584   \n",
       "2     48203642   37.932064   38.190671   37.486028   37.597537  192814568   \n",
       "3     27939718   37.644988   38.079162   37.484842   37.986633  111758872   \n",
       "4     20347352   37.659223   37.905967   37.590420   37.844281   81389408   \n",
       "...        ...         ...         ...         ...         ...        ...   \n",
       "1252  76957768  155.810000  160.362000  154.965000  159.750000   76957768   \n",
       "1253  73295539  154.530000  157.090000  153.690000  156.470000   73295539   \n",
       "1254  87449574  155.960000  156.670000  153.610000  154.825000   87449574   \n",
       "1255  84923847  154.460000  156.360000  152.680000  154.640000   84923847   \n",
       "1256  68081006  157.370000  157.820000  154.750000  155.470000   68081006   \n",
       "\n",
       "      divCash  splitFactor  \n",
       "0         0.0          1.0  \n",
       "1         0.0          1.0  \n",
       "2         0.0          1.0  \n",
       "3         0.0          1.0  \n",
       "4         0.0          1.0  \n",
       "...       ...          ...  \n",
       "1252      0.0          1.0  \n",
       "1253      0.0          1.0  \n",
       "1254      0.0          1.0  \n",
       "1255      0.0          1.0  \n",
       "1256      0.0          1.0  \n",
       "\n",
       "[1257 rows x 14 columns]"
      ]
     },
     "execution_count": 4,
     "metadata": {},
     "output_type": "execute_result"
    }
   ],
   "source": [
    "df = pd.read_csv('AAPL.csv')\n",
    "df"
   ]
  },
  {
   "cell_type": "markdown",
   "id": "36f6c4fe",
   "metadata": {},
   "source": [
    "### Data Visualisation"
   ]
  },
  {
   "cell_type": "markdown",
   "id": "086dc95d",
   "metadata": {},
   "source": [
    "To make things simple, we consider the closing prices in the 'close' column."
   ]
  },
  {
   "cell_type": "markdown",
   "id": "a6eed793",
   "metadata": {},
   "source": [
    "The closing price is the raw price or cash value of the last transacted price in a security before the market officially closes for normal trading. It is often the reference point used by investors to compare a stock's performance since the previous day.\n",
    "\n",
    "Source: https://www.investopedia.com/terms/c/closingprice.asp"
   ]
  },
  {
   "cell_type": "code",
   "execution_count": 5,
   "id": "8c1eee38",
   "metadata": {},
   "outputs": [
    {
     "data": {
      "text/html": [
       "<div>\n",
       "<style scoped>\n",
       "    .dataframe tbody tr th:only-of-type {\n",
       "        vertical-align: middle;\n",
       "    }\n",
       "\n",
       "    .dataframe tbody tr th {\n",
       "        vertical-align: top;\n",
       "    }\n",
       "\n",
       "    .dataframe thead th {\n",
       "        text-align: right;\n",
       "    }\n",
       "</style>\n",
       "<table border=\"1\" class=\"dataframe\">\n",
       "  <thead>\n",
       "    <tr style=\"text-align: right;\">\n",
       "      <th></th>\n",
       "      <th>close</th>\n",
       "    </tr>\n",
       "  </thead>\n",
       "  <tbody>\n",
       "    <tr>\n",
       "      <th>0</th>\n",
       "      <td>159.65</td>\n",
       "    </tr>\n",
       "    <tr>\n",
       "      <th>1</th>\n",
       "      <td>158.28</td>\n",
       "    </tr>\n",
       "    <tr>\n",
       "      <th>2</th>\n",
       "      <td>159.88</td>\n",
       "    </tr>\n",
       "    <tr>\n",
       "      <th>3</th>\n",
       "      <td>158.67</td>\n",
       "    </tr>\n",
       "    <tr>\n",
       "      <th>4</th>\n",
       "      <td>158.73</td>\n",
       "    </tr>\n",
       "    <tr>\n",
       "      <th>...</th>\n",
       "      <td>...</td>\n",
       "    </tr>\n",
       "    <tr>\n",
       "      <th>1252</th>\n",
       "      <td>155.81</td>\n",
       "    </tr>\n",
       "    <tr>\n",
       "      <th>1253</th>\n",
       "      <td>154.53</td>\n",
       "    </tr>\n",
       "    <tr>\n",
       "      <th>1254</th>\n",
       "      <td>155.96</td>\n",
       "    </tr>\n",
       "    <tr>\n",
       "      <th>1255</th>\n",
       "      <td>154.46</td>\n",
       "    </tr>\n",
       "    <tr>\n",
       "      <th>1256</th>\n",
       "      <td>157.37</td>\n",
       "    </tr>\n",
       "  </tbody>\n",
       "</table>\n",
       "<p>1257 rows × 1 columns</p>\n",
       "</div>"
      ],
      "text/plain": [
       "       close\n",
       "0     159.65\n",
       "1     158.28\n",
       "2     159.88\n",
       "3     158.67\n",
       "4     158.73\n",
       "...      ...\n",
       "1252  155.81\n",
       "1253  154.53\n",
       "1254  155.96\n",
       "1255  154.46\n",
       "1256  157.37\n",
       "\n",
       "[1257 rows x 1 columns]"
      ]
     },
     "execution_count": 5,
     "metadata": {},
     "output_type": "execute_result"
    }
   ],
   "source": [
    "close_df = pd.DataFrame(df['close'])\n",
    "close_df"
   ]
  },
  {
   "cell_type": "markdown",
   "id": "31a56193",
   "metadata": {},
   "source": [
    "We will visualise the values with a line plot."
   ]
  },
  {
   "cell_type": "code",
   "execution_count": 6,
   "id": "992ac9c8",
   "metadata": {},
   "outputs": [
    {
     "data": {
      "image/png": "[encoded data removed]",
      "text/plain": [
       "<Figure size 864x576 with 1 Axes>"
      ]
     },
     "metadata": {
      "needs_background": "light"
     },
     "output_type": "display_data"
    }
   ],
   "source": [
    "plt.figure(figsize=(12, 8))\n",
    "plt.plot(close_df, '-g')\n",
    "plt.title('Closing Values')\n",
    "plt.xlabel('Index')\n",
    "plt.ylabel('Value')\n",
    "\n",
    "plt.show()"
   ]
  },
  {
   "cell_type": "markdown",
   "id": "62abf44f",
   "metadata": {},
   "source": [
    "First, we examine the measure of dispersion and central tendency of these values."
   ]
  },
  {
   "cell_type": "code",
   "execution_count": 7,
   "id": "312cfee9",
   "metadata": {},
   "outputs": [
    {
     "data": {
      "text/html": [
       "<div>\n",
       "<style scoped>\n",
       "    .dataframe tbody tr th:only-of-type {\n",
       "        vertical-align: middle;\n",
       "    }\n",
       "\n",
       "    .dataframe tbody tr th {\n",
       "        vertical-align: top;\n",
       "    }\n",
       "\n",
       "    .dataframe thead th {\n",
       "        text-align: right;\n",
       "    }\n",
       "</style>\n",
       "<table border=\"1\" class=\"dataframe\">\n",
       "  <thead>\n",
       "    <tr style=\"text-align: right;\">\n",
       "      <th></th>\n",
       "      <th>close</th>\n",
       "    </tr>\n",
       "  </thead>\n",
       "  <tbody>\n",
       "    <tr>\n",
       "      <th>count</th>\n",
       "      <td>1257.00</td>\n",
       "    </tr>\n",
       "    <tr>\n",
       "      <th>mean</th>\n",
       "      <td>192.01</td>\n",
       "    </tr>\n",
       "    <tr>\n",
       "      <th>std</th>\n",
       "      <td>68.43</td>\n",
       "    </tr>\n",
       "    <tr>\n",
       "      <th>min</th>\n",
       "      <td>106.84</td>\n",
       "    </tr>\n",
       "    <tr>\n",
       "      <th>25%</th>\n",
       "      <td>148.71</td>\n",
       "    </tr>\n",
       "    <tr>\n",
       "      <th>50%</th>\n",
       "      <td>172.97</td>\n",
       "    </tr>\n",
       "    <tr>\n",
       "      <th>75%</th>\n",
       "      <td>209.68</td>\n",
       "    </tr>\n",
       "    <tr>\n",
       "      <th>max</th>\n",
       "      <td>506.09</td>\n",
       "    </tr>\n",
       "  </tbody>\n",
       "</table>\n",
       "</div>"
      ],
      "text/plain": [
       "         close\n",
       "count  1257.00\n",
       "mean    192.01\n",
       "std      68.43\n",
       "min     106.84\n",
       "25%     148.71\n",
       "50%     172.97\n",
       "75%     209.68\n",
       "max     506.09"
      ]
     },
     "execution_count": 7,
     "metadata": {},
     "output_type": "execute_result"
    }
   ],
   "source": [
    "close_df.describe().round(2)"
   ]
  },
  {
   "cell_type": "markdown",
   "id": "e7d54354",
   "metadata": {},
   "source": [
    "The range = max - min is quite large and 50% of the data is below 172.97.\n",
    "Since we have a fixed min and max, we will apply MinMax scaler provided by sklearn as LTSM is sensitive to the scale of the data. It also helps the model to converge faster during training."
   ]
  },
  {
   "cell_type": "markdown",
   "id": "0be377a1",
   "metadata": {},
   "source": [
    "### Data Normalisation"
   ]
  },
  {
   "cell_type": "code",
   "execution_count": 8,
   "id": "cf873e43",
   "metadata": {},
   "outputs": [],
   "source": [
    "from sklearn.preprocessing import MinMaxScaler"
   ]
  },
  {
   "cell_type": "code",
   "execution_count": 9,
   "id": "4c884c6b",
   "metadata": {},
   "outputs": [],
   "source": [
    "scaler = MinMaxScaler(feature_range=(0,1))                        # Scale the values to between 0 and 1 inclusive\n",
    "close_df = scaler.fit_transform(np.array(close_df).reshape(-1,1)) # The argument is an array of 1 column"
   ]
  },
  {
   "cell_type": "code",
   "execution_count": 10,
   "id": "f98082cd",
   "metadata": {},
   "outputs": [
    {
     "name": "stdout",
     "output_type": "stream",
     "text": [
      "[[0.13227301]\n",
      " [0.12884158]\n",
      " [0.13284909]\n",
      " ...\n",
      " [0.12303068]\n",
      " [0.11927364]\n",
      " [0.1265623 ]]\n"
     ]
    }
   ],
   "source": [
    "print(close_df)"
   ]
  },
  {
   "cell_type": "markdown",
   "id": "77f04861",
   "metadata": {},
   "source": [
    "### Model Training"
   ]
  },
  {
   "cell_type": "markdown",
   "id": "45d3d86b",
   "metadata": {},
   "source": [
    "Now, we will split the data into train and test sets."
   ]
  },
  {
   "cell_type": "code",
   "execution_count": 11,
   "id": "bf79b9ff",
   "metadata": {},
   "outputs": [
    {
     "name": "stdout",
     "output_type": "stream",
     "text": [
      "Train: 817\n",
      "Test: 440\n"
     ]
    }
   ],
   "source": [
    "train_size = int(len(close_df)*0.65)      # Around 65% of the data are training data\n",
    "test_size = len(close_df)-train_size      # Around 35% of the data are testing data\n",
    "train_data, test_data = close_df[0:train_size,:], close_df[train_size:len(close_df),:1]\n",
    "print('Train:', train_size) \n",
    "print('Test:', test_size)"
   ]
  },
  {
   "cell_type": "markdown",
   "id": "d25fe19c",
   "metadata": {},
   "source": [
    "For our prediction, we will use the previous 100-days input values to predict the next day value. So, if we have 1st: 112, 2nd: 135, ..., 100th: 154, to predict the 101th, we will use the 1st, 2nd, ..., 99th values."
   ]
  },
  {
   "cell_type": "code",
   "execution_count": 12,
   "id": "4b14c2a3",
   "metadata": {},
   "outputs": [],
   "source": [
    "# Convert an array of values into a dataset matrix\n",
    "def create_dataset(dataset, time_step=1):\n",
    "    dataX, dataY = [], []\n",
    "    for i in range(len(dataset)-time_step-1):\n",
    "        a = dataset[i:(i + time_step), 0]        # When i=0, we will choose 100 values (0th,1st,2nd,...,99th)\n",
    "                                                 # When i=1, we will choose 100 values (1st,2nd,3rd,...,100th)\n",
    "        dataX.append(a)\n",
    "        dataY.append(dataset[i + time_step, 0])  # When i=0, the 100th value will go into dataY\n",
    "                                                 # When i=1, the 101th value will go into dataY\n",
    "    return np.array(dataX), np.array(dataY)"
   ]
  },
  {
   "cell_type": "code",
   "execution_count": 13,
   "id": "181064b2",
   "metadata": {},
   "outputs": [],
   "source": [
    "# Reshape into X=t,t+1,t+2,...,t+99 and Y=t+100\n",
    "time_step = 100  # Previous 100-day input values\n",
    "X_train, y_train = create_dataset(train_data, time_step)\n",
    "X_test, y_test = create_dataset(test_data, time_step)"
   ]
  },
  {
   "cell_type": "code",
   "execution_count": 14,
   "id": "2b93f854",
   "metadata": {},
   "outputs": [
    {
     "name": "stdout",
     "output_type": "stream",
     "text": [
      "(716, 100)\n",
      "(716,)\n"
     ]
    },
    {
     "data": {
      "text/plain": [
       "(None, None)"
      ]
     },
     "execution_count": 14,
     "metadata": {},
     "output_type": "execute_result"
    }
   ],
   "source": [
    "print(X_train.shape), print(y_train.shape)"
   ]
  },
  {
   "cell_type": "code",
   "execution_count": 15,
   "id": "296e9169",
   "metadata": {},
   "outputs": [
    {
     "name": "stdout",
     "output_type": "stream",
     "text": [
      "(339, 100)\n",
      "(339,)\n"
     ]
    },
    {
     "data": {
      "text/plain": [
       "(None, None)"
      ]
     },
     "execution_count": 15,
     "metadata": {},
     "output_type": "execute_result"
    }
   ],
   "source": [
    "print(X_test.shape), print(y_test.shape)"
   ]
  },
  {
   "cell_type": "code",
   "execution_count": 16,
   "id": "e018fe1a",
   "metadata": {},
   "outputs": [],
   "source": [
    "# Reshape input to be [samples, time steps, features] which is required for LSTM\n",
    "X_train = X_train.reshape(X_train.shape[0], X_train.shape[1] , 1)\n",
    "X_test = X_test.reshape(X_test.shape[0], X_test.shape[1] , 1)"
   ]
  },
  {
   "cell_type": "markdown",
   "id": "218500dd",
   "metadata": {},
   "source": [
    "Now we will import relevant libraries to create LSTM."
   ]
  },
  {
   "cell_type": "code",
   "execution_count": 17,
   "id": "7fb0d22c",
   "metadata": {},
   "outputs": [],
   "source": [
    "from tensorflow.keras.models import Sequential\n",
    "from tensorflow.keras.layers import Dense\n",
    "from tensorflow.keras.layers import LSTM"
   ]
  },
  {
   "cell_type": "code",
   "execution_count": 18,
   "id": "c3582ec5",
   "metadata": {
    "scrolled": true
   },
   "outputs": [
    {
     "name": "stdout",
     "output_type": "stream",
     "text": [
      "Model: \"sequential\"\n",
      "_________________________________________________________________\n",
      " Layer (type)                Output Shape              Param #   \n",
      "=================================================================\n",
      " lstm (LSTM)                 (None, 100, 50)           10400     \n",
      "                                                                 \n",
      " lstm_1 (LSTM)               (None, 100, 50)           20200     \n",
      "                                                                 \n",
      " lstm_2 (LSTM)               (None, 50)                20200     \n",
      "                                                                 \n",
      " dense (Dense)               (None, 1)                 51        \n",
      "                                                                 \n",
      "=================================================================\n",
      "Total params: 50,851\n",
      "Trainable params: 50,851\n",
      "Non-trainable params: 0\n",
      "_________________________________________________________________\n"
     ]
    }
   ],
   "source": [
    "# Create the Stacked LSTM model\n",
    "model = Sequential()\n",
    "model.add(LSTM(50,return_sequences=True,input_shape=(100,1), activation='sigmoid'))   # First layer: LSTM\n",
    "model.add(LSTM(50,return_sequences=True))                                             # Second layer: LSTM\n",
    "model.add(LSTM(50))                                                                   # Third layer: LSTM\n",
    "model.add(Dense(1, activation='sigmoid'))                                             # Fourth layer: Dense\n",
    "model.compile(loss='mean_squared_error',optimizer='adam')\n",
    "model.summary()"
   ]
  },
  {
   "cell_type": "markdown",
   "id": "d5292a61",
   "metadata": {},
   "source": [
    "Sigmoid activation function is chosen on the first layer because it bounds the output in the range [0, 1]. Previously, we have already normalised the data to be in the range [0, 1]."
   ]
  },
  {
   "cell_type": "code",
   "execution_count": 19,
   "id": "4ff650a6",
   "metadata": {
    "scrolled": true
   },
   "outputs": [
    {
     "name": "stdout",
     "output_type": "stream",
     "text": [
      "Epoch 1/100\n",
      "12/12 - 8s - loss: 0.0401 - val_loss: 0.0407 - 8s/epoch - 637ms/step\n",
      "Epoch 2/100\n",
      "12/12 - 2s - loss: 0.0365 - val_loss: 0.0298 - 2s/epoch - 165ms/step\n",
      "Epoch 3/100\n",
      "12/12 - 2s - loss: 0.0371 - val_loss: 0.0273 - 2s/epoch - 165ms/step\n",
      "Epoch 4/100\n",
      "12/12 - 2s - loss: 0.0364 - val_loss: 0.0326 - 2s/epoch - 159ms/step\n",
      "Epoch 5/100\n",
      "12/12 - 2s - loss: 0.0360 - val_loss: 0.0292 - 2s/epoch - 157ms/step\n",
      "Epoch 6/100\n",
      "12/12 - 2s - loss: 0.0357 - val_loss: 0.0314 - 2s/epoch - 160ms/step\n",
      "Epoch 7/100\n",
      "12/12 - 2s - loss: 0.0353 - val_loss: 0.0373 - 2s/epoch - 160ms/step\n",
      "Epoch 8/100\n",
      "12/12 - 2s - loss: 0.0333 - val_loss: 0.0111 - 2s/epoch - 158ms/step\n",
      "Epoch 9/100\n",
      "12/12 - 2s - loss: 0.0285 - val_loss: 0.0223 - 2s/epoch - 160ms/step\n",
      "Epoch 10/100\n",
      "12/12 - 2s - loss: 0.0257 - val_loss: 0.0163 - 2s/epoch - 158ms/step\n",
      "Epoch 11/100\n",
      "12/12 - 2s - loss: 0.0273 - val_loss: 0.0256 - 2s/epoch - 160ms/step\n",
      "Epoch 12/100\n",
      "12/12 - 2s - loss: 0.0215 - val_loss: 0.0178 - 2s/epoch - 158ms/step\n",
      "Epoch 13/100\n",
      "12/12 - 2s - loss: 0.0131 - val_loss: 0.0025 - 2s/epoch - 157ms/step\n",
      "Epoch 14/100\n",
      "12/12 - 2s - loss: 0.0107 - val_loss: 0.0016 - 2s/epoch - 159ms/step\n",
      "Epoch 15/100\n",
      "12/12 - 2s - loss: 0.0091 - val_loss: 0.0011 - 2s/epoch - 156ms/step\n",
      "Epoch 16/100\n",
      "12/12 - 2s - loss: 0.0079 - val_loss: 6.4279e-04 - 2s/epoch - 160ms/step\n",
      "Epoch 17/100\n",
      "12/12 - 2s - loss: 0.0074 - val_loss: 8.8060e-04 - 2s/epoch - 159ms/step\n",
      "Epoch 18/100\n",
      "12/12 - 2s - loss: 0.0065 - val_loss: 6.0936e-04 - 2s/epoch - 161ms/step\n",
      "Epoch 19/100\n",
      "12/12 - 2s - loss: 0.0063 - val_loss: 0.0031 - 2s/epoch - 162ms/step\n",
      "Epoch 20/100\n",
      "12/12 - 2s - loss: 0.0059 - val_loss: 6.7988e-04 - 2s/epoch - 163ms/step\n",
      "Epoch 21/100\n",
      "12/12 - 2s - loss: 0.0046 - val_loss: 0.0017 - 2s/epoch - 159ms/step\n",
      "Epoch 22/100\n",
      "12/12 - 2s - loss: 0.0043 - val_loss: 6.0482e-04 - 2s/epoch - 160ms/step\n",
      "Epoch 23/100\n",
      "12/12 - 2s - loss: 0.0032 - val_loss: 5.3713e-04 - 2s/epoch - 160ms/step\n",
      "Epoch 24/100\n",
      "12/12 - 2s - loss: 0.0079 - val_loss: 0.0024 - 2s/epoch - 162ms/step\n",
      "Epoch 25/100\n",
      "12/12 - 2s - loss: 0.0071 - val_loss: 0.0092 - 2s/epoch - 163ms/step\n",
      "Epoch 26/100\n",
      "12/12 - 2s - loss: 0.0126 - val_loss: 0.0167 - 2s/epoch - 160ms/step\n",
      "Epoch 27/100\n",
      "12/12 - 2s - loss: 0.0075 - val_loss: 5.3182e-04 - 2s/epoch - 167ms/step\n",
      "Epoch 28/100\n",
      "12/12 - 2s - loss: 0.0048 - val_loss: 3.9352e-04 - 2s/epoch - 162ms/step\n",
      "Epoch 29/100\n",
      "12/12 - 2s - loss: 0.0029 - val_loss: 0.0015 - 2s/epoch - 162ms/step\n",
      "Epoch 30/100\n",
      "12/12 - 2s - loss: 0.0035 - val_loss: 4.6075e-04 - 2s/epoch - 163ms/step\n",
      "Epoch 31/100\n",
      "12/12 - 2s - loss: 0.0031 - val_loss: 4.4583e-04 - 2s/epoch - 161ms/step\n",
      "Epoch 32/100\n",
      "12/12 - 2s - loss: 0.0026 - val_loss: 4.5144e-04 - 2s/epoch - 163ms/step\n",
      "Epoch 33/100\n",
      "12/12 - 2s - loss: 0.0032 - val_loss: 0.0033 - 2s/epoch - 162ms/step\n",
      "Epoch 34/100\n",
      "12/12 - 2s - loss: 0.0102 - val_loss: 0.0026 - 2s/epoch - 160ms/step\n",
      "Epoch 35/100\n",
      "12/12 - 2s - loss: 0.0069 - val_loss: 0.0037 - 2s/epoch - 161ms/step\n",
      "Epoch 36/100\n",
      "12/12 - 2s - loss: 0.0039 - val_loss: 4.1421e-04 - 2s/epoch - 160ms/step\n",
      "Epoch 37/100\n",
      "12/12 - 2s - loss: 0.0027 - val_loss: 4.8781e-04 - 2s/epoch - 161ms/step\n",
      "Epoch 38/100\n",
      "12/12 - 2s - loss: 0.0022 - val_loss: 5.1793e-04 - 2s/epoch - 159ms/step\n",
      "Epoch 39/100\n",
      "12/12 - 2s - loss: 0.0021 - val_loss: 7.6011e-04 - 2s/epoch - 161ms/step\n",
      "Epoch 40/100\n",
      "12/12 - 2s - loss: 0.0021 - val_loss: 0.0013 - 2s/epoch - 161ms/step\n",
      "Epoch 41/100\n",
      "12/12 - 2s - loss: 0.0020 - val_loss: 3.3055e-04 - 2s/epoch - 159ms/step\n",
      "Epoch 42/100\n",
      "12/12 - 2s - loss: 0.0021 - val_loss: 3.5209e-04 - 2s/epoch - 159ms/step\n",
      "Epoch 43/100\n",
      "12/12 - 2s - loss: 0.0021 - val_loss: 3.6258e-04 - 2s/epoch - 158ms/step\n",
      "Epoch 44/100\n",
      "12/12 - 2s - loss: 0.0024 - val_loss: 3.7199e-04 - 2s/epoch - 160ms/step\n",
      "Epoch 45/100\n",
      "12/12 - 2s - loss: 0.0025 - val_loss: 0.0029 - 2s/epoch - 162ms/step\n",
      "Epoch 46/100\n",
      "12/12 - 2s - loss: 0.0028 - val_loss: 0.0023 - 2s/epoch - 161ms/step\n",
      "Epoch 47/100\n",
      "12/12 - 2s - loss: 0.0025 - val_loss: 3.7196e-04 - 2s/epoch - 161ms/step\n",
      "Epoch 48/100\n",
      "12/12 - 2s - loss: 0.0028 - val_loss: 0.0013 - 2s/epoch - 159ms/step\n",
      "Epoch 49/100\n",
      "12/12 - 2s - loss: 0.0052 - val_loss: 0.0013 - 2s/epoch - 159ms/step\n",
      "Epoch 50/100\n",
      "12/12 - 2s - loss: 0.0031 - val_loss: 0.0018 - 2s/epoch - 159ms/step\n",
      "Epoch 51/100\n",
      "12/12 - 2s - loss: 0.0020 - val_loss: 7.3016e-04 - 2s/epoch - 158ms/step\n",
      "Epoch 52/100\n",
      "12/12 - 2s - loss: 0.0018 - val_loss: 0.0011 - 2s/epoch - 159ms/step\n",
      "Epoch 53/100\n",
      "12/12 - 2s - loss: 0.0016 - val_loss: 0.0011 - 2s/epoch - 160ms/step\n",
      "Epoch 54/100\n",
      "12/12 - 2s - loss: 0.0015 - val_loss: 8.1721e-04 - 2s/epoch - 158ms/step\n",
      "Epoch 55/100\n",
      "12/12 - 2s - loss: 0.0014 - val_loss: 0.0011 - 2s/epoch - 159ms/step\n",
      "Epoch 56/100\n",
      "12/12 - 2s - loss: 0.0015 - val_loss: 0.0019 - 2s/epoch - 159ms/step\n",
      "Epoch 57/100\n",
      "12/12 - 2s - loss: 0.0017 - val_loss: 0.0012 - 2s/epoch - 158ms/step\n",
      "Epoch 58/100\n",
      "12/12 - 2s - loss: 0.0023 - val_loss: 0.0071 - 2s/epoch - 156ms/step\n",
      "Epoch 59/100\n",
      "12/12 - 2s - loss: 0.0026 - val_loss: 3.8512e-04 - 2s/epoch - 155ms/step\n",
      "Epoch 60/100\n",
      "12/12 - 2s - loss: 0.0016 - val_loss: 4.3853e-04 - 2s/epoch - 158ms/step\n",
      "Epoch 61/100\n",
      "12/12 - 2s - loss: 0.0014 - val_loss: 0.0018 - 2s/epoch - 161ms/step\n",
      "Epoch 62/100\n",
      "12/12 - 2s - loss: 0.0014 - val_loss: 9.5503e-04 - 2s/epoch - 158ms/step\n",
      "Epoch 63/100\n",
      "12/12 - 2s - loss: 0.0017 - val_loss: 0.0011 - 2s/epoch - 156ms/step\n",
      "Epoch 64/100\n",
      "12/12 - 2s - loss: 0.0016 - val_loss: 0.0012 - 2s/epoch - 157ms/step\n",
      "Epoch 65/100\n",
      "12/12 - 2s - loss: 0.0016 - val_loss: 0.0022 - 2s/epoch - 159ms/step\n",
      "Epoch 66/100\n",
      "12/12 - 2s - loss: 0.0015 - val_loss: 4.6094e-04 - 2s/epoch - 159ms/step\n",
      "Epoch 67/100\n",
      "12/12 - 2s - loss: 0.0013 - val_loss: 6.5912e-04 - 2s/epoch - 165ms/step\n",
      "Epoch 68/100\n",
      "12/12 - 2s - loss: 0.0014 - val_loss: 0.0029 - 2s/epoch - 168ms/step\n",
      "Epoch 69/100\n",
      "12/12 - 2s - loss: 0.0016 - val_loss: 0.0014 - 2s/epoch - 162ms/step\n",
      "Epoch 70/100\n",
      "12/12 - 2s - loss: 0.0015 - val_loss: 3.4036e-04 - 2s/epoch - 164ms/step\n",
      "Epoch 71/100\n",
      "12/12 - 2s - loss: 0.0016 - val_loss: 0.0013 - 2s/epoch - 169ms/step\n",
      "Epoch 72/100\n",
      "12/12 - 2s - loss: 0.0018 - val_loss: 0.0025 - 2s/epoch - 165ms/step\n",
      "Epoch 73/100\n",
      "12/12 - 2s - loss: 0.0013 - val_loss: 0.0014 - 2s/epoch - 155ms/step\n",
      "Epoch 74/100\n",
      "12/12 - 2s - loss: 0.0012 - val_loss: 8.2932e-04 - 2s/epoch - 160ms/step\n",
      "Epoch 75/100\n",
      "12/12 - 2s - loss: 0.0016 - val_loss: 0.0023 - 2s/epoch - 165ms/step\n",
      "Epoch 76/100\n",
      "12/12 - 2s - loss: 0.0016 - val_loss: 0.0011 - 2s/epoch - 166ms/step\n",
      "Epoch 77/100\n",
      "12/12 - 2s - loss: 0.0019 - val_loss: 0.0014 - 2s/epoch - 156ms/step\n",
      "Epoch 78/100\n",
      "12/12 - 2s - loss: 0.0020 - val_loss: 0.0015 - 2s/epoch - 154ms/step\n",
      "Epoch 79/100\n",
      "12/12 - 2s - loss: 0.0034 - val_loss: 0.0021 - 2s/epoch - 153ms/step\n",
      "Epoch 80/100\n",
      "12/12 - 2s - loss: 0.0032 - val_loss: 0.0018 - 2s/epoch - 160ms/step\n",
      "Epoch 81/100\n",
      "12/12 - 2s - loss: 0.0027 - val_loss: 0.0021 - 2s/epoch - 161ms/step\n",
      "Epoch 82/100\n",
      "12/12 - 2s - loss: 0.0019 - val_loss: 3.9085e-04 - 2s/epoch - 162ms/step\n",
      "Epoch 83/100\n",
      "12/12 - 2s - loss: 0.0017 - val_loss: 8.8136e-04 - 2s/epoch - 170ms/step\n",
      "Epoch 84/100\n",
      "12/12 - 2s - loss: 0.0016 - val_loss: 0.0013 - 2s/epoch - 163ms/step\n",
      "Epoch 85/100\n",
      "12/12 - 2s - loss: 0.0016 - val_loss: 0.0015 - 2s/epoch - 165ms/step\n",
      "Epoch 86/100\n",
      "12/12 - 2s - loss: 0.0019 - val_loss: 0.0016 - 2s/epoch - 164ms/step\n",
      "Epoch 87/100\n",
      "12/12 - 2s - loss: 0.0017 - val_loss: 0.0018 - 2s/epoch - 156ms/step\n",
      "Epoch 88/100\n",
      "12/12 - 2s - loss: 0.0019 - val_loss: 0.0021 - 2s/epoch - 151ms/step\n",
      "Epoch 89/100\n",
      "12/12 - 2s - loss: 0.0015 - val_loss: 0.0014 - 2s/epoch - 154ms/step\n",
      "Epoch 90/100\n",
      "12/12 - 2s - loss: 0.0014 - val_loss: 5.5117e-04 - 2s/epoch - 155ms/step\n",
      "Epoch 91/100\n",
      "12/12 - 2s - loss: 0.0013 - val_loss: 6.4386e-04 - 2s/epoch - 153ms/step\n",
      "Epoch 92/100\n",
      "12/12 - 2s - loss: 0.0020 - val_loss: 0.0046 - 2s/epoch - 156ms/step\n",
      "Epoch 93/100\n",
      "12/12 - 2s - loss: 0.0033 - val_loss: 0.0102 - 2s/epoch - 153ms/step\n",
      "Epoch 94/100\n",
      "12/12 - 2s - loss: 0.0031 - val_loss: 4.6352e-04 - 2s/epoch - 153ms/step\n",
      "Epoch 95/100\n",
      "12/12 - 2s - loss: 0.0027 - val_loss: 0.0036 - 2s/epoch - 153ms/step\n",
      "Epoch 96/100\n",
      "12/12 - 2s - loss: 0.0019 - val_loss: 6.5828e-04 - 2s/epoch - 169ms/step\n",
      "Epoch 97/100\n",
      "12/12 - 2s - loss: 0.0015 - val_loss: 0.0012 - 2s/epoch - 179ms/step\n",
      "Epoch 98/100\n",
      "12/12 - 2s - loss: 0.0015 - val_loss: 8.8585e-04 - 2s/epoch - 170ms/step\n",
      "Epoch 99/100\n",
      "12/12 - 2s - loss: 0.0018 - val_loss: 0.0013 - 2s/epoch - 152ms/step\n"
     ]
    },
    {
     "name": "stdout",
     "output_type": "stream",
     "text": [
      "Epoch 100/100\n",
      "12/12 - 2s - loss: 0.0020 - val_loss: 0.0016 - 2s/epoch - 160ms/step\n"
     ]
    },
    {
     "data": {
      "text/plain": [
       "<keras.callbacks.History at 0x200eb1e4820>"
      ]
     },
     "execution_count": 19,
     "metadata": {},
     "output_type": "execute_result"
    }
   ],
   "source": [
    "model.fit(X_train, y_train, validation_data=(X_test,y_test), epochs=100, batch_size=64, verbose=2)"
   ]
  },
  {
   "cell_type": "markdown",
   "id": "97b7da52",
   "metadata": {},
   "source": [
    "### Model Prediction"
   ]
  },
  {
   "cell_type": "markdown",
   "id": "cc9ca3eb",
   "metadata": {},
   "source": [
    "Now, let us check the prediction and its performance metrics."
   ]
  },
  {
   "cell_type": "code",
   "execution_count": 20,
   "id": "78f8fc72",
   "metadata": {},
   "outputs": [
    {
     "name": "stdout",
     "output_type": "stream",
     "text": [
      "23/23 [==============================] - 2s 32ms/step\n",
      "11/11 [==============================] - 0s 32ms/step\n"
     ]
    }
   ],
   "source": [
    "train_predict = model.predict(X_train)\n",
    "test_predict = model.predict(X_test)"
   ]
  },
  {
   "cell_type": "code",
   "execution_count": 21,
   "id": "04e8b8d8",
   "metadata": {},
   "outputs": [],
   "source": [
    "# Transform back to original form\n",
    "train_predict = scaler.inverse_transform(train_predict)\n",
    "test_predict = scaler.inverse_transform(test_predict)"
   ]
  },
  {
   "cell_type": "markdown",
   "id": "c00a0d82",
   "metadata": {},
   "source": [
    "We will calculate the root mean squared error (RMSE) to determine how well the model performs."
   ]
  },
  {
   "cell_type": "code",
   "execution_count": 22,
   "id": "1d68257b",
   "metadata": {},
   "outputs": [],
   "source": [
    "from sklearn.metrics import mean_squared_error as mse"
   ]
  },
  {
   "cell_type": "code",
   "execution_count": 23,
   "id": "54e2fd67",
   "metadata": {},
   "outputs": [
    {
     "name": "stdout",
     "output_type": "stream",
     "text": [
      "Train set: 228.333\n",
      "Test set: 148.684\n"
     ]
    }
   ],
   "source": [
    "print('Train set:', np.sqrt(mse(y_train, train_predict)).round(3))  # Train set\n",
    "print('Test set:', np.sqrt(mse(y_test, test_predict)).round(3))   # Test set"
   ]
  },
  {
   "cell_type": "markdown",
   "id": "a943932d",
   "metadata": {},
   "source": [
    "Now, let us plot the predictions and the actual values."
   ]
  },
  {
   "cell_type": "markdown",
   "id": "42f5bc7b",
   "metadata": {},
   "source": [
    "For the shifting of train predictions, since we are using 100-value look back, the results in train_predict will be from indices 100th,101th,... as compared to the original data, provided the index in the original data starts from 0."
   ]
  },
  {
   "cell_type": "markdown",
   "id": "f16288f3",
   "metadata": {},
   "source": [
    "For the shifting of test predictions, since the test set are taken after the train set, the indices will be from the size of train set + 100-day until the end of the original data."
   ]
  },
  {
   "cell_type": "code",
   "execution_count": 24,
   "id": "2897ba1a",
   "metadata": {
    "scrolled": true
   },
   "outputs": [
    {
     "data": {
      "image/png": "[encoded data removed]",
      "text/plain": [
       "<Figure size 864x576 with 1 Axes>"
      ]
     },
     "metadata": {
      "needs_background": "light"
     },
     "output_type": "display_data"
    }
   ],
   "source": [
    "# Shift train predictions for plotting\n",
    "look_back = 100\n",
    "trainPredictPlot = np.empty_like(close_df)\n",
    "trainPredictPlot[:, :] = np.nan\n",
    "trainPredictPlot[look_back:len(train_predict)+look_back, :] = train_predict\n",
    "\n",
    "# Shift test predictions for plotting\n",
    "testPredictPlot = np.empty_like(close_df)\n",
    "testPredictPlot[:, :] = np.nan\n",
    "# testPredictPlot[len(train_predict)+(look_back*2)+1:len(close_df)-1, :] = test_predict\n",
    "testPredictPlot[len(train_data)+look_back:len(close_df)-1, :] = test_predict\n",
    "\n",
    "# Plot baseline and predictions\n",
    "plt.figure(figsize=(12, 8))\n",
    "plt.plot(scaler.inverse_transform(close_df), '-y', label='Actual')   # Actual values before transform\n",
    "plt.plot(trainPredictPlot, '-r', label='Prediction for Train Set')   # Predictions for train set\n",
    "plt.plot(testPredictPlot, '-b', label='Prediction for Test Set')     # Predictions for test set\n",
    "plt.title('Closing Value')\n",
    "plt.xlabel('Index')\n",
    "plt.ylabel('Value')\n",
    "plt.legend()\n",
    "\n",
    "plt.show()"
   ]
  },
  {
   "cell_type": "markdown",
   "id": "48935280",
   "metadata": {},
   "source": [
    "### Forecasting"
   ]
  },
  {
   "cell_type": "markdown",
   "id": "8d6f7ad3",
   "metadata": {},
   "source": [
    "It is time for the real input test."
   ]
  },
  {
   "cell_type": "code",
   "execution_count": 25,
   "id": "d0a92305",
   "metadata": {},
   "outputs": [
    {
     "data": {
      "text/plain": [
       "(1, 100)"
      ]
     },
     "execution_count": 25,
     "metadata": {},
     "output_type": "execute_result"
    }
   ],
   "source": [
    "x_input = test_data[len(test_data)-100:].reshape(1,-1)\n",
    "x_input.shape"
   ]
  },
  {
   "cell_type": "code",
   "execution_count": 26,
   "id": "2e1bf5c1",
   "metadata": {},
   "outputs": [
    {
     "data": {
      "text/plain": [
       "[0.15168440826549778,\n",
       " 0.15125860989355033,\n",
       " 0.14922980588603624,\n",
       " 0.13763306199123349,\n",
       " 0.140363180964308,\n",
       " 0.1251346274264245,\n",
       " 0.12455854727614268,\n",
       " 0.14226675015654344,\n",
       " 0.12726361928616153,\n",
       " 0.12804007514088916,\n",
       " 0.13184721352536,\n",
       " 0.14822792736380713,\n",
       " 0.12505948653725735,\n",
       " 0.12633688165309953,\n",
       " 0.11326236693800873,\n",
       " 0.11939887288666245,\n",
       " 0.09933625547902314,\n",
       " 0.08946775203506574,\n",
       " 0.10086412022542268,\n",
       " 0.09693174702567309,\n",
       " 0.10619912335629306,\n",
       " 0.08510958046336875,\n",
       " 0.0764182842830306,\n",
       " 0.07701941139636814,\n",
       " 0.09084533500313086,\n",
       " 0.08395742016280527,\n",
       " 0.0843581715716969,\n",
       " 0.09252348152786471,\n",
       " 0.10720100187852216,\n",
       " 0.10519724483406384,\n",
       " 0.10487163431433938,\n",
       " 0.11113337507827176,\n",
       " 0.09653099561678141,\n",
       " 0.09843456480901686,\n",
       " 0.10487163431433938,\n",
       " 0.10299311208515965,\n",
       " 0.0896681277395115,\n",
       " 0.07586725109580456,\n",
       " 0.0627175954915466,\n",
       " 0.06492172824045078,\n",
       " 0.07160926737633061,\n",
       " 0.05815904821540385,\n",
       " 0.061916092673763246,\n",
       " 0.0727113337507827,\n",
       " 0.07140889167188474,\n",
       " 0.07872260488415778,\n",
       " 0.08721352536005006,\n",
       " 0.08721352536005006,\n",
       " 0.07664370695053219,\n",
       " 0.08112711333750777,\n",
       " 0.07484032561051968,\n",
       " 0.08037570444583592,\n",
       " 0.08696305572949276,\n",
       " 0.09036944270507191,\n",
       " 0.09896055103318718,\n",
       " 0.10068879148403248,\n",
       " 0.09525360050093923,\n",
       " 0.0977332498434565,\n",
       " 0.09680651221039449,\n",
       " 0.10427050720100184,\n",
       " 0.10852849092047584,\n",
       " 0.1007639323731997,\n",
       " 0.11060738885410137,\n",
       " 0.11571696931747022,\n",
       " 0.12150281778334371,\n",
       " 0.1183469004383218,\n",
       " 0.11549154664996863,\n",
       " 0.11211020663744514,\n",
       " 0.12510958046336873,\n",
       " 0.12651221039448962,\n",
       " 0.139436443331246,\n",
       " 0.13693174702567307,\n",
       " 0.13317470256731367,\n",
       " 0.1485034439574201,\n",
       " 0.1477019411396368,\n",
       " 0.14654978083907322,\n",
       " 0.1453475266123982,\n",
       " 0.14547276142767684,\n",
       " 0.15629304946775202,\n",
       " 0.1544145272385723,\n",
       " 0.16345648090169063,\n",
       " 0.16618659987476514,\n",
       " 0.16578584846587346,\n",
       " 0.1695929868503444,\n",
       " 0.1685911083281152,\n",
       " 0.16200375704445835,\n",
       " 0.15211020663744512,\n",
       " 0.15125860989355033,\n",
       " 0.15201001878522225,\n",
       " 0.15827175954915462,\n",
       " 0.142216656230432,\n",
       " 0.1366061365059486,\n",
       " 0.13041953663118344,\n",
       " 0.12618659987476516,\n",
       " 0.12804007514088916,\n",
       " 0.1226549780839073,\n",
       " 0.1194489668127739,\n",
       " 0.12303068252974325,\n",
       " 0.1192736380713838,\n",
       " 0.12656230432060112]"
      ]
     },
     "execution_count": 26,
     "metadata": {},
     "output_type": "execute_result"
    }
   ],
   "source": [
    "temp_input = list(x_input)[0].tolist()\n",
    "temp_input"
   ]
  },
  {
   "cell_type": "markdown",
   "id": "96ec6fd8",
   "metadata": {},
   "source": [
    "We will test the prediction for the next 30 days."
   ]
  },
  {
   "cell_type": "code",
   "execution_count": 27,
   "id": "745d9bc6",
   "metadata": {
    "scrolled": true
   },
   "outputs": [],
   "source": [
    "# Demonstrate prediction for next 30 days\n",
    "from numpy import array\n",
    "\n",
    "lst_output = []\n",
    "n_steps = x_input.shape[1]\n",
    "i = 0\n",
    "for i in range(30):\n",
    "    \n",
    "    if(len(temp_input) > 100):\n",
    "        # print(temp_input)\n",
    "        x_input = np.array(temp_input[1:])\n",
    "        # print(\"{} day input {}\".format(i,x_input))\n",
    "        x_input = x_input.reshape(1,-1)\n",
    "        x_input = x_input.reshape((1, n_steps, 1))\n",
    "        # print(x_input)\n",
    "        yhat = model.predict(x_input, verbose=0)\n",
    "        # print(\"{} day output {}\".format(i,yhat))\n",
    "        temp_input.extend(yhat[0].tolist())\n",
    "        temp_input = temp_input[1:]\n",
    "        # print(temp_input)\n",
    "        lst_output.extend(yhat.tolist())\n",
    "    else:\n",
    "        x_input = x_input.reshape((1, n_steps,1))\n",
    "        yhat = model.predict(x_input, verbose=0)\n",
    "        # print(yhat[0])\n",
    "        temp_input.extend(yhat[0].tolist())\n",
    "        # print(len(temp_input))\n",
    "        lst_output.extend(yhat.tolist())\n",
    "\n",
    "# print(lst_output)"
   ]
  },
  {
   "cell_type": "code",
   "execution_count": 28,
   "id": "ce1e3110",
   "metadata": {},
   "outputs": [],
   "source": [
    "day_new = np.arange(1, x_input.shape[1]+1)\n",
    "day_pred = np.arange(x_input.shape[1]+1, x_input.shape[1]+31)"
   ]
  },
  {
   "cell_type": "code",
   "execution_count": 29,
   "id": "d3d95da3",
   "metadata": {},
   "outputs": [
    {
     "data": {
      "image/png": "[encoded data removed]",
      "text/plain": [
       "<Figure size 864x576 with 1 Axes>"
      ]
     },
     "metadata": {
      "needs_background": "light"
     },
     "output_type": "display_data"
    }
   ],
   "source": [
    "plt.figure(figsize=(12, 8))\n",
    "plt.plot(day_new, scaler.inverse_transform(close_df[len(close_df)-x_input.shape[1]:]), label='Original')\n",
    "plt.plot(day_pred, scaler.inverse_transform(lst_output), label='Forecast')\n",
    "plt.title('Stock Market Forecast')\n",
    "plt.xlabel('Index')\n",
    "plt.ylabel('Value')\n",
    "plt.legend()\n",
    "\n",
    "plt.show()"
   ]
  },
  {
   "cell_type": "markdown",
   "id": "b35e1558",
   "metadata": {},
   "source": [
    "After the forecasting, we can join the data to the original dataset."
   ]
  },
  {
   "cell_type": "code",
   "execution_count": 30,
   "id": "22a6da8e",
   "metadata": {},
   "outputs": [
    {
     "data": {
      "image/png": "[encoded data removed]",
      "text/plain": [
       "<Figure size 864x576 with 1 Axes>"
      ]
     },
     "metadata": {
      "needs_background": "light"
     },
     "output_type": "display_data"
    }
   ],
   "source": [
    "newCLOSE_df = close_df.tolist()\n",
    "newCLOSE_df.extend(lst_output)\n",
    "\n",
    "plt.figure(figsize=(12, 8))\n",
    "plt.plot(newCLOSE_df[1200:])\n",
    "plt.title('Extended Closing Value')\n",
    "plt.xlabel('Index')\n",
    "plt.ylabel('Value')\n",
    "\n",
    "plt.show()"
   ]
  },
  {
   "cell_type": "markdown",
   "id": "8200f291",
   "metadata": {},
   "source": [
    "The final step is to transform the normalised data back to its original values."
   ]
  },
  {
   "cell_type": "code",
   "execution_count": 31,
   "id": "f5aba49c",
   "metadata": {},
   "outputs": [],
   "source": [
    "newCLOSE_df = scaler.inverse_transform(newCLOSE_df).tolist()"
   ]
  },
  {
   "cell_type": "markdown",
   "id": "ecc724f3",
   "metadata": {},
   "source": [
    "Let us look at the complete line plot."
   ]
  },
  {
   "cell_type": "code",
   "execution_count": 32,
   "id": "c7ade809",
   "metadata": {},
   "outputs": [
    {
     "data": {
      "image/png": "[encoded data removed]",
      "text/plain": [
       "<Figure size 864x576 with 1 Axes>"
      ]
     },
     "metadata": {
      "needs_background": "light"
     },
     "output_type": "display_data"
    }
   ],
   "source": [
    "plt.figure(figsize=(12, 8))\n",
    "plt.plot(newCLOSE_df)\n",
    "plt.title('Extended Closing Value')\n",
    "plt.xlabel('Index')\n",
    "plt.ylabel('Value')\n",
    "\n",
    "plt.show()"
   ]
  },
  {
   "cell_type": "markdown",
   "id": "d08b7802",
   "metadata": {},
   "source": [
    "Note: This deep learning method for stock market forecast should not be used as a reference for real stock investment. The real stock market is affected by many other factors, beyond the scope of what deep learning can provide."
   ]
  },
  {
   "cell_type": "markdown",
   "id": "a63b793d",
   "metadata": {},
   "source": [
    "### Extra: Removing the last 30 days and forecast those days"
   ]
  },
  {
   "cell_type": "markdown",
   "id": "1d8de199",
   "metadata": {},
   "source": [
    "In this section, instead of forecasting the future 30 days, we will remove the last 30-day values in the dataset. Then, we will predict those values and determine its metrics."
   ]
  },
  {
   "cell_type": "code",
   "execution_count": 33,
   "id": "0fa666fc",
   "metadata": {},
   "outputs": [],
   "source": [
    "close_df = pd.DataFrame(df['close'])"
   ]
  },
  {
   "cell_type": "code",
   "execution_count": 34,
   "id": "2797bf2b",
   "metadata": {},
   "outputs": [
    {
     "data": {
      "text/html": [
       "<div>\n",
       "<style scoped>\n",
       "    .dataframe tbody tr th:only-of-type {\n",
       "        vertical-align: middle;\n",
       "    }\n",
       "\n",
       "    .dataframe tbody tr th {\n",
       "        vertical-align: top;\n",
       "    }\n",
       "\n",
       "    .dataframe thead th {\n",
       "        text-align: right;\n",
       "    }\n",
       "</style>\n",
       "<table border=\"1\" class=\"dataframe\">\n",
       "  <thead>\n",
       "    <tr style=\"text-align: right;\">\n",
       "      <th></th>\n",
       "      <th>close</th>\n",
       "    </tr>\n",
       "  </thead>\n",
       "  <tbody>\n",
       "    <tr>\n",
       "      <th>0</th>\n",
       "      <td>159.65</td>\n",
       "    </tr>\n",
       "    <tr>\n",
       "      <th>1</th>\n",
       "      <td>158.28</td>\n",
       "    </tr>\n",
       "    <tr>\n",
       "      <th>2</th>\n",
       "      <td>159.88</td>\n",
       "    </tr>\n",
       "    <tr>\n",
       "      <th>3</th>\n",
       "      <td>158.67</td>\n",
       "    </tr>\n",
       "    <tr>\n",
       "      <th>4</th>\n",
       "      <td>158.73</td>\n",
       "    </tr>\n",
       "    <tr>\n",
       "      <th>...</th>\n",
       "      <td>...</td>\n",
       "    </tr>\n",
       "    <tr>\n",
       "      <th>1222</th>\n",
       "      <td>154.09</td>\n",
       "    </tr>\n",
       "    <tr>\n",
       "      <th>1223</th>\n",
       "      <td>152.95</td>\n",
       "    </tr>\n",
       "    <tr>\n",
       "      <th>1224</th>\n",
       "      <td>151.60</td>\n",
       "    </tr>\n",
       "    <tr>\n",
       "      <th>1225</th>\n",
       "      <td>156.79</td>\n",
       "    </tr>\n",
       "    <tr>\n",
       "      <th>1226</th>\n",
       "      <td>157.35</td>\n",
       "    </tr>\n",
       "  </tbody>\n",
       "</table>\n",
       "<p>1227 rows × 1 columns</p>\n",
       "</div>"
      ],
      "text/plain": [
       "       close\n",
       "0     159.65\n",
       "1     158.28\n",
       "2     159.88\n",
       "3     158.67\n",
       "4     158.73\n",
       "...      ...\n",
       "1222  154.09\n",
       "1223  152.95\n",
       "1224  151.60\n",
       "1225  156.79\n",
       "1226  157.35\n",
       "\n",
       "[1227 rows x 1 columns]"
      ]
     },
     "execution_count": 34,
     "metadata": {},
     "output_type": "execute_result"
    }
   ],
   "source": [
    "reducedCLOSE_df = pd.DataFrame(close_df[:len(df)-30])\n",
    "reducedCLOSE_df"
   ]
  },
  {
   "cell_type": "code",
   "execution_count": 35,
   "id": "c2975699",
   "metadata": {},
   "outputs": [],
   "source": [
    "scaler = MinMaxScaler(feature_range=(0,1))    # Scale the values to between 0 and 1 inclusive\n",
    "reducedCLOSE_df = scaler.fit_transform(np.array(reducedCLOSE_df).reshape(-1,1))"
   ]
  },
  {
   "cell_type": "code",
   "execution_count": 36,
   "id": "48278b7f",
   "metadata": {},
   "outputs": [
    {
     "name": "stdout",
     "output_type": "stream",
     "text": [
      "Train: 797\n",
      "Test: 430\n"
     ]
    }
   ],
   "source": [
    "train_size = int(len(reducedCLOSE_df)*0.65)\n",
    "test_size = len(reducedCLOSE_df)-train_size\n",
    "train_data, test_data = reducedCLOSE_df[0:train_size,:], reducedCLOSE_df[train_size:len(reducedCLOSE_df),:1]\n",
    "print('Train:', train_size)\n",
    "print('Test:', test_size)"
   ]
  },
  {
   "cell_type": "code",
   "execution_count": 37,
   "id": "d2541937",
   "metadata": {},
   "outputs": [],
   "source": [
    "# Reshape into X=t,t+1,t+2,...,t+99 and Y=t+100\n",
    "time_step = 100\n",
    "X_train, y_train = create_dataset(train_data, time_step)\n",
    "X_test, y_test = create_dataset(test_data, time_step)"
   ]
  },
  {
   "cell_type": "code",
   "execution_count": 38,
   "id": "1f1c6fae",
   "metadata": {},
   "outputs": [
    {
     "name": "stdout",
     "output_type": "stream",
     "text": [
      "(696, 100)\n",
      "(696,)\n"
     ]
    },
    {
     "data": {
      "text/plain": [
       "(None, None)"
      ]
     },
     "execution_count": 38,
     "metadata": {},
     "output_type": "execute_result"
    }
   ],
   "source": [
    "print(X_train.shape), print(y_train.shape)"
   ]
  },
  {
   "cell_type": "code",
   "execution_count": 39,
   "id": "bb61dc41",
   "metadata": {},
   "outputs": [
    {
     "name": "stdout",
     "output_type": "stream",
     "text": [
      "(329, 100)\n",
      "(329,)\n"
     ]
    },
    {
     "data": {
      "text/plain": [
       "(None, None)"
      ]
     },
     "execution_count": 39,
     "metadata": {},
     "output_type": "execute_result"
    }
   ],
   "source": [
    "print(X_test.shape), print(y_test.shape)"
   ]
  },
  {
   "cell_type": "code",
   "execution_count": 40,
   "id": "21e4f5ce",
   "metadata": {},
   "outputs": [],
   "source": [
    "# Reshape input to be [samples, time steps, features] which is required for LSTM\n",
    "X_train = X_train.reshape(X_train.shape[0], X_train.shape[1] , 1)\n",
    "X_test = X_test.reshape(X_test.shape[0], X_test.shape[1] , 1)"
   ]
  },
  {
   "cell_type": "code",
   "execution_count": 41,
   "id": "360c8c6b",
   "metadata": {},
   "outputs": [
    {
     "name": "stdout",
     "output_type": "stream",
     "text": [
      "Model: \"sequential_1\"\n",
      "_________________________________________________________________\n",
      " Layer (type)                Output Shape              Param #   \n",
      "=================================================================\n",
      " lstm_3 (LSTM)               (None, 100, 50)           10400     \n",
      "                                                                 \n",
      " lstm_4 (LSTM)               (None, 100, 50)           20200     \n",
      "                                                                 \n",
      " lstm_5 (LSTM)               (None, 50)                20200     \n",
      "                                                                 \n",
      " dense_1 (Dense)             (None, 1)                 51        \n",
      "                                                                 \n",
      "=================================================================\n",
      "Total params: 50,851\n",
      "Trainable params: 50,851\n",
      "Non-trainable params: 0\n",
      "_________________________________________________________________\n"
     ]
    }
   ],
   "source": [
    "model = Sequential()\n",
    "model.add(LSTM(50,return_sequences=True,input_shape=(100,1), activation='sigmoid'))     # First layer: LSTM\n",
    "model.add(LSTM(50,return_sequences=True))                                               # Second layer: LSTM\n",
    "model.add(LSTM(50))                                                                     # Third layer: LSTM\n",
    "model.add(Dense(1, activation='sigmoid'))                                               # Fourth layer: Dense\n",
    "model.compile(loss='mean_squared_error',optimizer='adam')\n",
    "model.summary()"
   ]
  },
  {
   "cell_type": "code",
   "execution_count": 42,
   "id": "69b4f27a",
   "metadata": {},
   "outputs": [
    {
     "name": "stdout",
     "output_type": "stream",
     "text": [
      "Epoch 1/100\n",
      "11/11 - 7s - loss: 0.0462 - val_loss: 0.0272 - 7s/epoch - 671ms/step\n",
      "Epoch 2/100\n",
      "11/11 - 2s - loss: 0.0357 - val_loss: 0.0443 - 2s/epoch - 155ms/step\n",
      "Epoch 3/100\n",
      "11/11 - 2s - loss: 0.0354 - val_loss: 0.0327 - 2s/epoch - 159ms/step\n",
      "Epoch 4/100\n",
      "11/11 - 2s - loss: 0.0356 - val_loss: 0.0414 - 2s/epoch - 158ms/step\n",
      "Epoch 5/100\n",
      "11/11 - 2s - loss: 0.0354 - val_loss: 0.0316 - 2s/epoch - 161ms/step\n",
      "Epoch 6/100\n",
      "11/11 - 2s - loss: 0.0354 - val_loss: 0.0355 - 2s/epoch - 158ms/step\n",
      "Epoch 7/100\n",
      "11/11 - 2s - loss: 0.0352 - val_loss: 0.0395 - 2s/epoch - 160ms/step\n",
      "Epoch 8/100\n",
      "11/11 - 2s - loss: 0.0350 - val_loss: 0.0367 - 2s/epoch - 158ms/step\n",
      "Epoch 9/100\n",
      "11/11 - 2s - loss: 0.0344 - val_loss: 0.0333 - 2s/epoch - 155ms/step\n",
      "Epoch 10/100\n",
      "11/11 - 2s - loss: 0.0337 - val_loss: 0.0235 - 2s/epoch - 161ms/step\n",
      "Epoch 11/100\n",
      "11/11 - 2s - loss: 0.0294 - val_loss: 0.0025 - 2s/epoch - 164ms/step\n",
      "Epoch 12/100\n",
      "11/11 - 2s - loss: 0.0327 - val_loss: 0.0231 - 2s/epoch - 160ms/step\n",
      "Epoch 13/100\n",
      "11/11 - 2s - loss: 0.0284 - val_loss: 0.0271 - 2s/epoch - 161ms/step\n",
      "Epoch 14/100\n",
      "11/11 - 2s - loss: 0.0205 - val_loss: 0.0029 - 2s/epoch - 163ms/step\n",
      "Epoch 15/100\n",
      "11/11 - 2s - loss: 0.0185 - val_loss: 0.0246 - 2s/epoch - 156ms/step\n",
      "Epoch 16/100\n",
      "11/11 - 2s - loss: 0.0156 - val_loss: 0.0053 - 2s/epoch - 159ms/step\n",
      "Epoch 17/100\n",
      "11/11 - 2s - loss: 0.0116 - val_loss: 6.3571e-04 - 2s/epoch - 157ms/step\n",
      "Epoch 18/100\n",
      "11/11 - 2s - loss: 0.0094 - val_loss: 0.0022 - 2s/epoch - 156ms/step\n",
      "Epoch 19/100\n",
      "11/11 - 2s - loss: 0.0083 - val_loss: 0.0018 - 2s/epoch - 156ms/step\n",
      "Epoch 20/100\n",
      "11/11 - 2s - loss: 0.0076 - val_loss: 4.9131e-04 - 2s/epoch - 157ms/step\n",
      "Epoch 21/100\n",
      "11/11 - 2s - loss: 0.0068 - val_loss: 6.6872e-04 - 2s/epoch - 159ms/step\n",
      "Epoch 22/100\n",
      "11/11 - 2s - loss: 0.0062 - val_loss: 0.0024 - 2s/epoch - 168ms/step\n",
      "Epoch 23/100\n",
      "11/11 - 2s - loss: 0.0055 - val_loss: 0.0014 - 2s/epoch - 161ms/step\n",
      "Epoch 24/100\n",
      "11/11 - 2s - loss: 0.0047 - val_loss: 4.7769e-04 - 2s/epoch - 162ms/step\n",
      "Epoch 25/100\n",
      "11/11 - 2s - loss: 0.0042 - val_loss: 0.0017 - 2s/epoch - 163ms/step\n",
      "Epoch 26/100\n",
      "11/11 - 2s - loss: 0.0044 - val_loss: 0.0012 - 2s/epoch - 156ms/step\n",
      "Epoch 27/100\n",
      "11/11 - 2s - loss: 0.0024 - val_loss: 5.0648e-04 - 2s/epoch - 159ms/step\n",
      "Epoch 28/100\n",
      "11/11 - 2s - loss: 0.0029 - val_loss: 0.0022 - 2s/epoch - 162ms/step\n",
      "Epoch 29/100\n",
      "11/11 - 2s - loss: 0.0046 - val_loss: 0.0027 - 2s/epoch - 168ms/step\n",
      "Epoch 30/100\n",
      "11/11 - 2s - loss: 0.0078 - val_loss: 0.0037 - 2s/epoch - 164ms/step\n",
      "Epoch 31/100\n",
      "11/11 - 2s - loss: 0.0047 - val_loss: 0.0031 - 2s/epoch - 158ms/step\n",
      "Epoch 32/100\n",
      "11/11 - 2s - loss: 0.0030 - val_loss: 0.0014 - 2s/epoch - 158ms/step\n",
      "Epoch 33/100\n",
      "11/11 - 2s - loss: 0.0027 - val_loss: 0.0011 - 2s/epoch - 160ms/step\n",
      "Epoch 34/100\n",
      "11/11 - 2s - loss: 0.0060 - val_loss: 0.0083 - 2s/epoch - 160ms/step\n",
      "Epoch 35/100\n",
      "11/11 - 2s - loss: 0.0036 - val_loss: 4.9913e-04 - 2s/epoch - 157ms/step\n",
      "Epoch 36/100\n",
      "11/11 - 2s - loss: 0.0030 - val_loss: 0.0044 - 2s/epoch - 160ms/step\n",
      "Epoch 37/100\n",
      "11/11 - 2s - loss: 0.0030 - val_loss: 0.0016 - 2s/epoch - 157ms/step\n",
      "Epoch 38/100\n",
      "11/11 - 2s - loss: 0.0037 - val_loss: 0.0010 - 2s/epoch - 158ms/step\n",
      "Epoch 39/100\n",
      "11/11 - 2s - loss: 0.0036 - val_loss: 0.0014 - 2s/epoch - 159ms/step\n",
      "Epoch 40/100\n",
      "11/11 - 2s - loss: 0.0026 - val_loss: 0.0025 - 2s/epoch - 158ms/step\n",
      "Epoch 41/100\n",
      "11/11 - 2s - loss: 0.0033 - val_loss: 0.0015 - 2s/epoch - 170ms/step\n",
      "Epoch 42/100\n",
      "11/11 - 2s - loss: 0.0031 - val_loss: 0.0049 - 2s/epoch - 158ms/step\n",
      "Epoch 43/100\n",
      "11/11 - 2s - loss: 0.0034 - val_loss: 0.0011 - 2s/epoch - 159ms/step\n",
      "Epoch 44/100\n",
      "11/11 - 2s - loss: 0.0031 - val_loss: 9.0375e-04 - 2s/epoch - 158ms/step\n",
      "Epoch 45/100\n",
      "11/11 - 2s - loss: 0.0023 - val_loss: 0.0023 - 2s/epoch - 160ms/step\n",
      "Epoch 46/100\n",
      "11/11 - 2s - loss: 0.0017 - val_loss: 0.0018 - 2s/epoch - 160ms/step\n",
      "Epoch 47/100\n",
      "11/11 - 2s - loss: 0.0018 - val_loss: 0.0012 - 2s/epoch - 160ms/step\n",
      "Epoch 48/100\n",
      "11/11 - 2s - loss: 0.0017 - val_loss: 0.0020 - 2s/epoch - 159ms/step\n",
      "Epoch 49/100\n",
      "11/11 - 2s - loss: 0.0019 - val_loss: 0.0017 - 2s/epoch - 157ms/step\n",
      "Epoch 50/100\n",
      "11/11 - 2s - loss: 0.0029 - val_loss: 5.3028e-04 - 2s/epoch - 164ms/step\n",
      "Epoch 51/100\n",
      "11/11 - 2s - loss: 0.0029 - val_loss: 0.0022 - 2s/epoch - 158ms/step\n",
      "Epoch 52/100\n",
      "11/11 - 2s - loss: 0.0348 - val_loss: 0.0664 - 2s/epoch - 158ms/step\n",
      "Epoch 53/100\n",
      "11/11 - 2s - loss: 0.0252 - val_loss: 0.0189 - 2s/epoch - 157ms/step\n",
      "Epoch 54/100\n",
      "11/11 - 2s - loss: 0.0186 - val_loss: 0.0091 - 2s/epoch - 156ms/step\n",
      "Epoch 55/100\n",
      "11/11 - 2s - loss: 0.0100 - val_loss: 0.0031 - 2s/epoch - 157ms/step\n",
      "Epoch 56/100\n",
      "11/11 - 2s - loss: 0.0056 - val_loss: 0.0012 - 2s/epoch - 161ms/step\n",
      "Epoch 57/100\n",
      "11/11 - 2s - loss: 0.0043 - val_loss: 0.0014 - 2s/epoch - 159ms/step\n",
      "Epoch 58/100\n",
      "11/11 - 2s - loss: 0.0037 - val_loss: 4.9954e-04 - 2s/epoch - 157ms/step\n",
      "Epoch 59/100\n",
      "11/11 - 2s - loss: 0.0030 - val_loss: 6.4116e-04 - 2s/epoch - 156ms/step\n",
      "Epoch 60/100\n",
      "11/11 - 2s - loss: 0.0032 - val_loss: 5.1103e-04 - 2s/epoch - 156ms/step\n",
      "Epoch 61/100\n",
      "11/11 - 2s - loss: 0.0035 - val_loss: 0.0031 - 2s/epoch - 162ms/step\n",
      "Epoch 62/100\n",
      "11/11 - 2s - loss: 0.0035 - val_loss: 0.0025 - 2s/epoch - 181ms/step\n",
      "Epoch 63/100\n",
      "11/11 - 2s - loss: 0.0036 - val_loss: 7.8875e-04 - 2s/epoch - 166ms/step\n",
      "Epoch 64/100\n",
      "11/11 - 2s - loss: 0.0019 - val_loss: 6.0729e-04 - 2s/epoch - 193ms/step\n",
      "Epoch 65/100\n",
      "11/11 - 2s - loss: 0.0032 - val_loss: 0.0010 - 2s/epoch - 181ms/step\n",
      "Epoch 66/100\n",
      "11/11 - 2s - loss: 0.0026 - val_loss: 7.0677e-04 - 2s/epoch - 167ms/step\n",
      "Epoch 67/100\n",
      "11/11 - 2s - loss: 0.0026 - val_loss: 4.7313e-04 - 2s/epoch - 165ms/step\n",
      "Epoch 68/100\n",
      "11/11 - 2s - loss: 0.0032 - val_loss: 0.0028 - 2s/epoch - 164ms/step\n",
      "Epoch 69/100\n",
      "11/11 - 2s - loss: 0.0025 - val_loss: 4.0832e-04 - 2s/epoch - 164ms/step\n",
      "Epoch 70/100\n",
      "11/11 - 2s - loss: 0.0024 - val_loss: 0.0010 - 2s/epoch - 159ms/step\n",
      "Epoch 71/100\n",
      "11/11 - 2s - loss: 0.0022 - val_loss: 0.0010 - 2s/epoch - 157ms/step\n",
      "Epoch 72/100\n",
      "11/11 - 2s - loss: 0.0018 - val_loss: 5.4615e-04 - 2s/epoch - 159ms/step\n",
      "Epoch 73/100\n",
      "11/11 - 2s - loss: 0.0019 - val_loss: 7.1020e-04 - 2s/epoch - 161ms/step\n",
      "Epoch 74/100\n",
      "11/11 - 2s - loss: 0.0017 - val_loss: 6.3659e-04 - 2s/epoch - 160ms/step\n",
      "Epoch 75/100\n",
      "11/11 - 2s - loss: 0.0018 - val_loss: 0.0030 - 2s/epoch - 157ms/step\n",
      "Epoch 76/100\n",
      "11/11 - 2s - loss: 0.0019 - val_loss: 3.9862e-04 - 2s/epoch - 158ms/step\n",
      "Epoch 77/100\n",
      "11/11 - 2s - loss: 0.0018 - val_loss: 5.5454e-04 - 2s/epoch - 159ms/step\n",
      "Epoch 78/100\n",
      "11/11 - 2s - loss: 0.0018 - val_loss: 0.0016 - 2s/epoch - 160ms/step\n",
      "Epoch 79/100\n",
      "11/11 - 2s - loss: 0.0023 - val_loss: 6.7698e-04 - 2s/epoch - 158ms/step\n",
      "Epoch 80/100\n",
      "11/11 - 2s - loss: 0.0032 - val_loss: 0.0016 - 2s/epoch - 159ms/step\n",
      "Epoch 81/100\n",
      "11/11 - 2s - loss: 0.0019 - val_loss: 3.6049e-04 - 2s/epoch - 158ms/step\n",
      "Epoch 82/100\n",
      "11/11 - 2s - loss: 0.0019 - val_loss: 6.3621e-04 - 2s/epoch - 158ms/step\n",
      "Epoch 83/100\n",
      "11/11 - 2s - loss: 0.0016 - val_loss: 4.8835e-04 - 2s/epoch - 159ms/step\n",
      "Epoch 84/100\n",
      "11/11 - 2s - loss: 0.0022 - val_loss: 6.8030e-04 - 2s/epoch - 160ms/step\n",
      "Epoch 85/100\n",
      "11/11 - 2s - loss: 0.0022 - val_loss: 0.0011 - 2s/epoch - 158ms/step\n",
      "Epoch 86/100\n",
      "11/11 - 2s - loss: 0.0017 - val_loss: 9.9136e-04 - 2s/epoch - 160ms/step\n",
      "Epoch 87/100\n",
      "11/11 - 2s - loss: 0.0014 - val_loss: 4.1362e-04 - 2s/epoch - 157ms/step\n",
      "Epoch 88/100\n",
      "11/11 - 2s - loss: 0.0014 - val_loss: 3.9486e-04 - 2s/epoch - 158ms/step\n",
      "Epoch 89/100\n",
      "11/11 - 2s - loss: 0.0013 - val_loss: 4.0117e-04 - 2s/epoch - 157ms/step\n",
      "Epoch 90/100\n",
      "11/11 - 2s - loss: 0.0012 - val_loss: 2.9741e-04 - 2s/epoch - 160ms/step\n",
      "Epoch 91/100\n",
      "11/11 - 2s - loss: 0.0021 - val_loss: 6.6119e-04 - 2s/epoch - 162ms/step\n",
      "Epoch 92/100\n",
      "11/11 - 2s - loss: 0.0020 - val_loss: 2.8478e-04 - 2s/epoch - 175ms/step\n",
      "Epoch 93/100\n",
      "11/11 - 2s - loss: 0.0022 - val_loss: 0.0016 - 2s/epoch - 174ms/step\n",
      "Epoch 94/100\n",
      "11/11 - 2s - loss: 0.0022 - val_loss: 8.2939e-04 - 2s/epoch - 172ms/step\n",
      "Epoch 95/100\n",
      "11/11 - 2s - loss: 0.0016 - val_loss: 3.4602e-04 - 2s/epoch - 171ms/step\n",
      "Epoch 96/100\n",
      "11/11 - 2s - loss: 0.0015 - val_loss: 0.0018 - 2s/epoch - 159ms/step\n",
      "Epoch 97/100\n",
      "11/11 - 2s - loss: 0.0015 - val_loss: 2.9874e-04 - 2s/epoch - 165ms/step\n",
      "Epoch 98/100\n",
      "11/11 - 2s - loss: 0.0019 - val_loss: 4.7384e-04 - 2s/epoch - 163ms/step\n",
      "Epoch 99/100\n",
      "11/11 - 2s - loss: 0.0011 - val_loss: 8.0197e-04 - 2s/epoch - 169ms/step\n"
     ]
    },
    {
     "name": "stdout",
     "output_type": "stream",
     "text": [
      "Epoch 100/100\n",
      "11/11 - 2s - loss: 0.0012 - val_loss: 3.2738e-04 - 2s/epoch - 174ms/step\n"
     ]
    },
    {
     "data": {
      "text/plain": [
       "<keras.callbacks.History at 0x200ff134bb0>"
      ]
     },
     "execution_count": 42,
     "metadata": {},
     "output_type": "execute_result"
    }
   ],
   "source": [
    "model.fit(X_train, y_train, validation_data=(X_test,y_test), epochs=100, batch_size=64, verbose=2)"
   ]
  },
  {
   "cell_type": "code",
   "execution_count": 43,
   "id": "5c665c59",
   "metadata": {},
   "outputs": [
    {
     "name": "stdout",
     "output_type": "stream",
     "text": [
      "22/22 [==============================] - 2s 33ms/step\n",
      "11/11 [==============================] - 0s 31ms/step\n"
     ]
    }
   ],
   "source": [
    "train_predict = model.predict(X_train)\n",
    "test_predict = model.predict(X_test)"
   ]
  },
  {
   "cell_type": "code",
   "execution_count": 44,
   "id": "af6e1bc7",
   "metadata": {},
   "outputs": [],
   "source": [
    "# Transform back to original form\n",
    "train_predict = scaler.inverse_transform(train_predict)\n",
    "test_predict = scaler.inverse_transform(test_predict)"
   ]
  },
  {
   "cell_type": "code",
   "execution_count": 45,
   "id": "56937961",
   "metadata": {},
   "outputs": [
    {
     "name": "stdout",
     "output_type": "stream",
     "text": [
      "Train set: 236.805\n",
      "Test set: 154.758\n"
     ]
    }
   ],
   "source": [
    "print('Train set:', np.sqrt(mse(y_train, train_predict)).round(3))  # Train set\n",
    "print('Test set:', np.sqrt(mse(y_test, test_predict)).round(3))    # Test set"
   ]
  },
  {
   "cell_type": "code",
   "execution_count": 46,
   "id": "465f52f3",
   "metadata": {},
   "outputs": [
    {
     "data": {
      "text/plain": [
       "(1, 100)"
      ]
     },
     "execution_count": 46,
     "metadata": {},
     "output_type": "execute_result"
    }
   ],
   "source": [
    "x_input = test_data[len(test_data)-100:].reshape(1,-1)\n",
    "x_input.shape"
   ]
  },
  {
   "cell_type": "code",
   "execution_count": 47,
   "id": "f877327e",
   "metadata": {},
   "outputs": [
    {
     "data": {
      "text/plain": [
       "[0.13139636819035688,\n",
       " 0.1267376330619912,\n",
       " 0.1405385097056981,\n",
       " 0.12944270507201,\n",
       " 0.11994990607388845,\n",
       " 0.10965560425798371,\n",
       " 0.12085159674389478,\n",
       " 0.13212273011897302,\n",
       " 0.13470256731371316,\n",
       " 0.14311834690043823,\n",
       " 0.14662492172824038,\n",
       " 0.1552410770194113,\n",
       " 0.1587226048841578,\n",
       " 0.16839073262366933,\n",
       " 0.17001878522229175,\n",
       " 0.17222291797119593,\n",
       " 0.18063869755792106,\n",
       " 0.1776581089542893,\n",
       " 0.16974326862867878,\n",
       " 0.16899185973700687,\n",
       " 0.1793362554790231,\n",
       " 0.17087038196618654,\n",
       " 0.16278021289918598,\n",
       " 0.1635566687539135,\n",
       " 0.158422041327489,\n",
       " 0.14755165936130238,\n",
       " 0.1523356293049467,\n",
       " 0.15919849718221663,\n",
       " 0.14639949906073885,\n",
       " 0.1458484658735128,\n",
       " 0.15168440826549778,\n",
       " 0.15125860989355033,\n",
       " 0.14922980588603624,\n",
       " 0.13763306199123349,\n",
       " 0.140363180964308,\n",
       " 0.1251346274264245,\n",
       " 0.12455854727614268,\n",
       " 0.14226675015654344,\n",
       " 0.12726361928616153,\n",
       " 0.12804007514088916,\n",
       " 0.13184721352536,\n",
       " 0.14822792736380713,\n",
       " 0.12505948653725735,\n",
       " 0.12633688165309953,\n",
       " 0.11326236693800873,\n",
       " 0.11939887288666245,\n",
       " 0.09933625547902314,\n",
       " 0.08946775203506574,\n",
       " 0.10086412022542268,\n",
       " 0.09693174702567309,\n",
       " 0.10619912335629306,\n",
       " 0.08510958046336875,\n",
       " 0.0764182842830306,\n",
       " 0.07701941139636814,\n",
       " 0.09084533500313086,\n",
       " 0.08395742016280527,\n",
       " 0.0843581715716969,\n",
       " 0.09252348152786471,\n",
       " 0.10720100187852216,\n",
       " 0.10519724483406384,\n",
       " 0.10487163431433938,\n",
       " 0.11113337507827176,\n",
       " 0.09653099561678141,\n",
       " 0.09843456480901686,\n",
       " 0.10487163431433938,\n",
       " 0.10299311208515965,\n",
       " 0.0896681277395115,\n",
       " 0.07586725109580456,\n",
       " 0.0627175954915466,\n",
       " 0.06492172824045078,\n",
       " 0.07160926737633061,\n",
       " 0.05815904821540385,\n",
       " 0.061916092673763246,\n",
       " 0.0727113337507827,\n",
       " 0.07140889167188474,\n",
       " 0.07872260488415778,\n",
       " 0.08721352536005006,\n",
       " 0.08721352536005006,\n",
       " 0.07664370695053219,\n",
       " 0.08112711333750777,\n",
       " 0.07484032561051968,\n",
       " 0.08037570444583592,\n",
       " 0.08696305572949276,\n",
       " 0.09036944270507191,\n",
       " 0.09896055103318718,\n",
       " 0.10068879148403248,\n",
       " 0.09525360050093923,\n",
       " 0.0977332498434565,\n",
       " 0.09680651221039449,\n",
       " 0.10427050720100184,\n",
       " 0.10852849092047584,\n",
       " 0.1007639323731997,\n",
       " 0.11060738885410137,\n",
       " 0.11571696931747022,\n",
       " 0.12150281778334371,\n",
       " 0.1183469004383218,\n",
       " 0.11549154664996863,\n",
       " 0.11211020663744514,\n",
       " 0.12510958046336873,\n",
       " 0.12651221039448962]"
      ]
     },
     "execution_count": 47,
     "metadata": {},
     "output_type": "execute_result"
    }
   ],
   "source": [
    "temp_input = list(x_input)[0].tolist()\n",
    "temp_input"
   ]
  },
  {
   "cell_type": "code",
   "execution_count": 48,
   "id": "025009b8",
   "metadata": {},
   "outputs": [],
   "source": [
    "# Demonstrate prediction for next 30 days\n",
    "from numpy import array\n",
    "\n",
    "lst_output = []\n",
    "n_steps = x_input.shape[1]\n",
    "i = 0\n",
    "for i in range(30):\n",
    "    \n",
    "    if(len(temp_input) > 100):\n",
    "        # print(temp_input)\n",
    "        x_input = np.array(temp_input[1:])\n",
    "        # print(\"{} day input {}\".format(i,x_input))\n",
    "        x_input = x_input.reshape(1,-1)\n",
    "        x_input = x_input.reshape((1, n_steps, 1))\n",
    "        # print(x_input)\n",
    "        yhat = model.predict(x_input, verbose=0)\n",
    "        # print(\"{} day output {}\".format(i,yhat))\n",
    "        temp_input.extend(yhat[0].tolist())\n",
    "        temp_input = temp_input[1:]\n",
    "        # print(temp_input)\n",
    "        lst_output.extend(yhat.tolist())\n",
    "    else:\n",
    "        x_input = x_input.reshape((1, n_steps,1))\n",
    "        yhat = model.predict(x_input, verbose=0)\n",
    "        # print(yhat[0])\n",
    "        temp_input.extend(yhat[0].tolist())\n",
    "        # print(len(temp_input))\n",
    "        lst_output.extend(yhat.tolist())\n",
    "\n",
    "# print(lst_output)"
   ]
  },
  {
   "cell_type": "code",
   "execution_count": 49,
   "id": "659f274e",
   "metadata": {},
   "outputs": [],
   "source": [
    "day_new = np.arange(1, x_input.shape[1]+1)\n",
    "day_pred = np.arange(x_input.shape[1]+1, x_input.shape[1]+31)"
   ]
  },
  {
   "cell_type": "code",
   "execution_count": 50,
   "id": "6eacafe1",
   "metadata": {},
   "outputs": [
    {
     "data": {
      "image/png": "[encoded data removed]",
      "text/plain": [
       "<Figure size 864x576 with 1 Axes>"
      ]
     },
     "metadata": {
      "needs_background": "light"
     },
     "output_type": "display_data"
    }
   ],
   "source": [
    "plt.figure(figsize=(12, 8))\n",
    "plt.plot(day_new, scaler.inverse_transform(reducedCLOSE_df[len(reducedCLOSE_df)-x_input.shape[1]:]), label='Original')\n",
    "plt.plot(day_pred, scaler.inverse_transform(lst_output), label='Forecast')\n",
    "plt.title('Stock Market Forecast')\n",
    "plt.xlabel('Index')\n",
    "plt.ylabel('Value')\n",
    "plt.legend()\n",
    "\n",
    "plt.show()"
   ]
  },
  {
   "cell_type": "code",
   "execution_count": 51,
   "id": "3f3aca3f",
   "metadata": {},
   "outputs": [
    {
     "data": {
      "image/png": "[encoded data removed]",
      "text/plain": [
       "<Figure size 864x576 with 1 Axes>"
      ]
     },
     "metadata": {
      "needs_background": "light"
     },
     "output_type": "display_data"
    }
   ],
   "source": [
    "newCLOSE_df = reducedCLOSE_df.tolist()\n",
    "newCLOSE_df.extend(lst_output)\n",
    "\n",
    "plt.figure(figsize=(12, 8))\n",
    "plt.plot(newCLOSE_df[1200:])\n",
    "plt.title('Extended Closing Value')\n",
    "plt.xlabel('Index')\n",
    "plt.ylabel('Value')\n",
    "\n",
    "plt.show()"
   ]
  },
  {
   "cell_type": "code",
   "execution_count": 52,
   "id": "db4bc80c",
   "metadata": {},
   "outputs": [],
   "source": [
    "newCLOSE_df = scaler.inverse_transform(newCLOSE_df).tolist()"
   ]
  },
  {
   "cell_type": "code",
   "execution_count": 53,
   "id": "12cabaa4",
   "metadata": {},
   "outputs": [],
   "source": [
    "newCLOSE_df = pd.DataFrame(newCLOSE_df)\n",
    "newCLOSE_df.columns = ['close']"
   ]
  },
  {
   "cell_type": "code",
   "execution_count": 54,
   "id": "f0c461b2",
   "metadata": {},
   "outputs": [
    {
     "data": {
      "text/html": [
       "<div>\n",
       "<style scoped>\n",
       "    .dataframe tbody tr th:only-of-type {\n",
       "        vertical-align: middle;\n",
       "    }\n",
       "\n",
       "    .dataframe tbody tr th {\n",
       "        vertical-align: top;\n",
       "    }\n",
       "\n",
       "    .dataframe thead th {\n",
       "        text-align: right;\n",
       "    }\n",
       "</style>\n",
       "<table border=\"1\" class=\"dataframe\">\n",
       "  <thead>\n",
       "    <tr style=\"text-align: right;\">\n",
       "      <th></th>\n",
       "      <th>close</th>\n",
       "    </tr>\n",
       "  </thead>\n",
       "  <tbody>\n",
       "    <tr>\n",
       "      <th>0</th>\n",
       "      <td>159.650000</td>\n",
       "    </tr>\n",
       "    <tr>\n",
       "      <th>1</th>\n",
       "      <td>158.280000</td>\n",
       "    </tr>\n",
       "    <tr>\n",
       "      <th>2</th>\n",
       "      <td>159.880000</td>\n",
       "    </tr>\n",
       "    <tr>\n",
       "      <th>3</th>\n",
       "      <td>158.670000</td>\n",
       "    </tr>\n",
       "    <tr>\n",
       "      <th>4</th>\n",
       "      <td>158.730000</td>\n",
       "    </tr>\n",
       "    <tr>\n",
       "      <th>...</th>\n",
       "      <td>...</td>\n",
       "    </tr>\n",
       "    <tr>\n",
       "      <th>1252</th>\n",
       "      <td>163.074550</td>\n",
       "    </tr>\n",
       "    <tr>\n",
       "      <th>1253</th>\n",
       "      <td>163.310772</td>\n",
       "    </tr>\n",
       "    <tr>\n",
       "      <th>1254</th>\n",
       "      <td>163.542146</td>\n",
       "    </tr>\n",
       "    <tr>\n",
       "      <th>1255</th>\n",
       "      <td>163.768826</td>\n",
       "    </tr>\n",
       "    <tr>\n",
       "      <th>1256</th>\n",
       "      <td>163.990949</td>\n",
       "    </tr>\n",
       "  </tbody>\n",
       "</table>\n",
       "<p>1257 rows × 1 columns</p>\n",
       "</div>"
      ],
      "text/plain": [
       "           close\n",
       "0     159.650000\n",
       "1     158.280000\n",
       "2     159.880000\n",
       "3     158.670000\n",
       "4     158.730000\n",
       "...          ...\n",
       "1252  163.074550\n",
       "1253  163.310772\n",
       "1254  163.542146\n",
       "1255  163.768826\n",
       "1256  163.990949\n",
       "\n",
       "[1257 rows x 1 columns]"
      ]
     },
     "execution_count": 54,
     "metadata": {},
     "output_type": "execute_result"
    }
   ],
   "source": [
    "newCLOSE_df"
   ]
  },
  {
   "cell_type": "code",
   "execution_count": 55,
   "id": "0a1c5c62",
   "metadata": {},
   "outputs": [],
   "source": [
    "y_bound = newCLOSE_df.iloc[len(newCLOSE_df)-30, 0]"
   ]
  },
  {
   "cell_type": "code",
   "execution_count": 56,
   "id": "65ec9440",
   "metadata": {},
   "outputs": [
    {
     "data": {
      "image/png": "[encoded data removed]",
      "text/plain": [
       "<Figure size 864x576 with 1 Axes>"
      ]
     },
     "metadata": {
      "needs_background": "light"
     },
     "output_type": "display_data"
    }
   ],
   "source": [
    "plt.figure(figsize=(12, 8))\n",
    "plt.plot(close_df[len(close_df)-40:], '-g', label='Original')\n",
    "plt.plot(newCLOSE_df[len(newCLOSE_df)-40:], '-b', label='Predicted')\n",
    "plt.plot(len(newCLOSE_df)-30, y_bound, 'go', label='Forecasting Starting Point')\n",
    "plt.title('Closing Values of Original vs Predicted')\n",
    "plt.xlabel('Index')\n",
    "plt.ylabel('Value')\n",
    "plt.legend()\n",
    "\n",
    "plt.show()"
   ]
  },
  {
   "cell_type": "markdown",
   "id": "8a19e785",
   "metadata": {},
   "source": [
    "Lastly, we will look at the root mean squared error for the 30-day predicted values."
   ]
  },
  {
   "cell_type": "code",
   "execution_count": 57,
   "id": "beba7ec7",
   "metadata": {},
   "outputs": [
    {
     "name": "stdout",
     "output_type": "stream",
     "text": [
      "RMSE: 8.976\n"
     ]
    }
   ],
   "source": [
    "mse_value = mse(close_df[len(close_df)-30:], newCLOSE_df[len(newCLOSE_df)-30:])\n",
    "print('RMSE:', np.sqrt(mse_value).round(3))"
   ]
  }
 ],
 "metadata": {
  "kernelspec": {
   "display_name": "Python 3",
   "language": "python",
   "name": "python3"
  },
  "language_info": {
   "codemirror_mode": {
    "name": "ipython",
    "version": 3
   },
   "file_extension": ".py",
   "mimetype": "text/x-python",
   "name": "python",
   "nbconvert_exporter": "python",
   "pygments_lexer": "ipython3",
   "version": "3.8.8"
  }
 },
 "nbformat": 4,
 "nbformat_minor": 5
}
